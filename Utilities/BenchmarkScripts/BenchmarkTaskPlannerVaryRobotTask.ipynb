{
 "cells": [
  {
   "cell_type": "code",
   "execution_count": 1,
   "id": "07595492",
   "metadata": {},
   "outputs": [
    {
     "data": {
      "text/plain": [
       "(10737418240, 12884901888)"
      ]
     },
     "execution_count": 1,
     "metadata": {},
     "output_type": "execute_result"
    }
   ],
   "source": [
    "import resource\n",
    "resource.setrlimit(resource.RLIMIT_AS, ( 10*(2**30), 12*(2**30) ))\n",
    "resource.getrlimit(resource.RLIMIT_AS)"
   ]
  },
  {
   "cell_type": "code",
   "execution_count": 2,
   "id": "d2c42c43",
   "metadata": {},
   "outputs": [],
   "source": [
    "def get_memory():\n",
    "    with open('/proc/meminfo', 'r') as mem:\n",
    "        free_memory = 0\n",
    "        for i in mem:\n",
    "            sline = i.split()\n",
    "            if str(sline[0]) in ('MemFree:', 'Buffers:', 'Cached:'):\n",
    "                free_memory += int(sline[1])\n",
    "    return free_memory"
   ]
  },
  {
   "cell_type": "code",
   "execution_count": 3,
   "id": "9adbcbab",
   "metadata": {},
   "outputs": [
    {
     "data": {
      "text/plain": [
       "3602676"
      ]
     },
     "execution_count": 3,
     "metadata": {},
     "output_type": "execute_result"
    }
   ],
   "source": [
    "get_memory()"
   ]
  },
  {
   "cell_type": "code",
   "execution_count": 4,
   "id": "f15ded4e",
   "metadata": {},
   "outputs": [],
   "source": [
    "import pandas as pd\n",
    "import json\n",
    "import os\n",
    "import subprocess"
   ]
  },
  {
   "cell_type": "code",
   "execution_count": null,
   "id": "3d5cfd31",
   "metadata": {},
   "outputs": [],
   "source": []
  },
  {
   "cell_type": "code",
   "execution_count": 5,
   "id": "3f5e0f24",
   "metadata": {
    "scrolled": true
   },
   "outputs": [
    {
     "name": "stdout",
     "output_type": "stream",
     "text": [
      "10 1 4\n",
      "10 2 4\n",
      "10 3 4\n",
      "10 4 4\n",
      "10 5 5\n",
      "10 6 5\n",
      "10 7 5\n",
      "10 8 5\n",
      "10 9 5\n",
      "9 1 4\n",
      "9 2 4\n",
      "9 3 4\n",
      "9 4 4\n",
      "9 5 5\n",
      "9 6 5\n",
      "9 7 5\n",
      "9 8 5\n",
      "9 9 4\n",
      "8 1 4\n",
      "8 2 4\n",
      "8 3 4\n",
      "8 4 5\n",
      "8 5 5\n",
      "8 6 5\n",
      "8 7 5\n",
      "8 8 4\n",
      "8 9 6\n",
      "7 1 4\n",
      "7 2 4\n",
      "7 3 4\n",
      "7 4 5\n",
      "7 5 5\n",
      "7 6 5\n",
      "7 7 4\n",
      "7 8 6\n",
      "7 9 6\n",
      "6 1 4\n",
      "6 2 4\n",
      "6 3 5\n",
      "6 4 5\n",
      "6 5 5\n",
      "6 6 4\n",
      "6 7 6\n",
      "6 8 6\n",
      "6 9 7\n",
      "5 1 4\n",
      "5 2 4\n",
      "5 3 5\n",
      "5 4 5\n",
      "5 5 4\n",
      "5 6 6\n",
      "5 7 6\n",
      "5 8 7\n",
      "5 9 7\n",
      "4 1 4\n",
      "4 2 5\n",
      "4 3 5\n",
      "4 4 4\n",
      "4 5 6\n",
      "4 6 7\n",
      "4 7 7\n",
      "4 8 6\n",
      "4 9 8\n",
      "3 1 4\n",
      "3 2 5\n",
      "3 3 4\n",
      "3 4 6\n",
      "3 5 7\n",
      "3 6 6\n",
      "3 7 8\n",
      "3 8 9\n",
      "3 9 8\n",
      "2 1 5\n",
      "2 2 4\n",
      "2 3 7\n",
      "2 4 6\n",
      "2 5 9\n",
      "2 6 8\n",
      "2 7 11\n",
      "2 8 10\n",
      "2 9 13\n",
      "1 1 4\n",
      "1 2 6\n",
      "1 3 8\n",
      "1 4 10\n",
      "1 5 12\n",
      "1 6 14\n",
      "1 7 16\n",
      "1 8 18\n",
      "1 9 20\n"
     ]
    }
   ],
   "source": [
    "for robots in range(10, 0, -1):\n",
    "    for tasks in range(1, 10):\n",
    "        if(tasks % robots):\n",
    "            minZ = int(max(1, 4 + 2 * (tasks / robots)))\n",
    "        else:\n",
    "            minZ = int(max(1, 2 + 2 * (tasks / robots)))\n",
    "        print(robots, tasks, minZ)"
   ]
  },
  {
   "cell_type": "raw",
   "id": "e5b69ad9",
   "metadata": {},
   "source": []
  },
  {
   "cell_type": "raw",
   "id": "61877982",
   "metadata": {},
   "source": [
    "./bin/taskPlanner \n",
    "--config problems/20/3/5/problem_00.json \n",
    "--numZ 6 \n",
    "--opt 1 \n",
    "--screen 1 \n",
    "--result debugTaskPlanner.txt \n",
    "--timeout 3600"
   ]
  },
  {
   "cell_type": "code",
   "execution_count": 14,
   "id": "40c6f6ed",
   "metadata": {
    "scrolled": true
   },
   "outputs": [
    {
     "name": "stdout",
     "output_type": "stream",
     "text": [
      "['./build/bin/taskPlanner', '--config', 'problems/20/2/1/problem_00.json', '--opt', '1', '--numZ', '4', '--result', 'problems/20/2/1/problem_00_mode1.json', '--screen', '0', '--timeout', '3600'] 0.5 0 False\n",
      "\n",
      "['./build/bin/taskPlanner', '--config', 'problems/20/2/2/problem_00.json', '--opt', '1', '--numZ', '4', '--result', 'problems/20/2/2/problem_00_mode1.json', '--screen', '0', '--timeout', '3600'] 1.0 1 True\n",
      "\n",
      "['./build/bin/taskPlanner', '--config', 'problems/20/2/3/problem_00.json', '--opt', '1', '--numZ', '6', '--result', 'problems/20/2/3/problem_00_mode1.json', '--screen', '0', '--timeout', '3600'] 1.5 1 False\n",
      "\n",
      "['./build/bin/taskPlanner', '--config', 'problems/20/2/4/problem_00.json', '--opt', '1', '--numZ', '6', '--result', 'problems/20/2/4/problem_00_mode1.json', '--screen', '0', '--timeout', '3600'] 2.0 2 True\n",
      "\n",
      "['./build/bin/taskPlanner', '--config', 'problems/20/2/5/problem_00.json', '--opt', '1', '--numZ', '8', '--result', 'problems/20/2/5/problem_00_mode1.json', '--screen', '0', '--timeout', '3600'] 2.5 2 False\n",
      "\n",
      "['./build/bin/taskPlanner', '--config', 'problems/20/2/6/problem_00.json', '--opt', '1', '--numZ', '8', '--result', 'problems/20/2/6/problem_00_mode1.json', '--screen', '0', '--timeout', '3600'] 3.0 3 True\n",
      "\n",
      "['./build/bin/taskPlanner', '--config', 'problems/20/2/7/problem_00.json', '--opt', '1', '--numZ', '10', '--result', 'problems/20/2/7/problem_00_mode1.json', '--screen', '0', '--timeout', '3600'] 3.5 3 False\n",
      "\n",
      "['./build/bin/taskPlanner', '--config', 'problems/20/2/8/problem_00.json', '--opt', '1', '--numZ', '10', '--result', 'problems/20/2/8/problem_00_mode1.json', '--screen', '0', '--timeout', '3600'] 4.0 4 True\n",
      "\n",
      "['./build/bin/taskPlanner', '--config', 'problems/20/2/9/problem_00.json', '--opt', '1', '--numZ', '12', '--result', 'problems/20/2/9/problem_00_mode1.json', '--screen', '0', '--timeout', '3600'] 4.5 4 False\n",
      "\n",
      "['./build/bin/taskPlanner', '--config', 'problems/20/2/10/problem_00.json', '--opt', '1', '--numZ', '12', '--result', 'problems/20/2/10/problem_00_mode1.json', '--screen', '0', '--timeout', '3600'] 5.0 5 True\n",
      "\n"
     ]
    }
   ],
   "source": [
    "initDir = 'problems/20/'\n",
    "for mode in [1]:\n",
    "    for robots in range(2, 1, -1):\n",
    "        for tasks in range(1, 11):\n",
    "            for example in range(1):\n",
    "                example_id = 'problem_' + str(example).zfill(2) + '.json'\n",
    "                output_id = 'problem_' + str(example).zfill(2) + '_mode' + str(mode) + '.json'\n",
    "                inputLoc = os.path.join(initDir, str(robots), str(tasks), example_id)\n",
    "                outputLoc = os.path.join(initDir, str(robots), str(tasks), output_id)\n",
    "                \n",
    "                if(tasks % robots):\n",
    "                    minZ = int(max(1, 4 + 2 * (tasks // robots)))\n",
    "                else:\n",
    "                    minZ = int(max(1, 2 + 2 * (tasks // robots)))\n",
    "                \n",
    "                execute_commands = [\n",
    "                    './build/bin/taskPlanner',\n",
    "                    '--config', str(inputLoc),\n",
    "                    '--opt', str(mode),\n",
    "                    '--numZ', str(minZ),\n",
    "                    '--result', str(outputLoc),\n",
    "                    '--screen', '0',\n",
    "                    '--timeout', '3600'\n",
    "                ]\n",
    "                print(execute_commands,  tasks/robots, tasks//robots, tasks/robots == tasks//robots)\n",
    "                try:\n",
    "                    subprocess.run(execute_commands, timeout=3600)\n",
    "                except:\n",
    "                    print(\"Failed\\n\")\n",
    "                print()"
   ]
  },
  {
   "cell_type": "code",
   "execution_count": null,
   "id": "817efd3d",
   "metadata": {},
   "outputs": [],
   "source": []
  }
 ],
 "metadata": {
  "kernelspec": {
   "display_name": "Python 3",
   "language": "python",
   "name": "python3"
  },
  "language_info": {
   "codemirror_mode": {
    "name": "ipython",
    "version": 3
   },
   "file_extension": ".py",
   "mimetype": "text/x-python",
   "name": "python",
   "nbconvert_exporter": "python",
   "pygments_lexer": "ipython3",
   "version": "3.6.9"
  }
 },
 "nbformat": 4,
 "nbformat_minor": 5
}
