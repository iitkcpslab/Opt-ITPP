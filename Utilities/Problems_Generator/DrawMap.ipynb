{
 "cells": [
  {
   "cell_type": "code",
   "execution_count": 1,
   "id": "d29a011e",
   "metadata": {},
   "outputs": [],
   "source": [
    "import matplotlib.pyplot as plt\n",
    "import numpy as np\n",
    "import random\n",
    "\n",
    "def find_direction(x, y, map):\n",
    "    if map[x-1][y] == 0:\n",
    "        return '<'\n",
    "    if map[x+1][y] == 0:\n",
    "        return '>'\n",
    "    if map[x][y-1] == 0:\n",
    "        return 'v'\n",
    "    if map[x][y+1] == 0:\n",
    "        return '^'\n",
    "\n",
    "\n",
    "\n",
    "def draw(map, robots, tasks, output):\n",
    "    blocked_x = []\n",
    "    blocked_y = []\n",
    "    for i in range(len(map)):\n",
    "        for j in range(len(map[i])):\n",
    "            if(map[i][j] == 1):\n",
    "                blocked_x.append(i);\n",
    "                blocked_y.append(j);\n",
    "\n",
    "    robots_x = []\n",
    "    robots_y = []\n",
    "    for i in range(len(robots)):\n",
    "        robots_x.append(robots[i][0])\n",
    "        robots_y.append(robots[i][1])\n",
    "\n",
    "    pickup_x = []\n",
    "    pickup_y = []\n",
    "    drop_x = []\n",
    "    drop_y = []\n",
    "    for i in range(len(tasks)):\n",
    "        pickup_x.append([tasks[i][0][0]])\n",
    "        pickup_y.append([tasks[i][0][1]])\n",
    "        drop_x.append([tasks[i][1][0]])\n",
    "        drop_y.append([tasks[i][1][1]])\n",
    "\n",
    "    plt.rcParams[\"figure.figsize\"] = (10,10)\n",
    "    fig = plt.figure()\n",
    "    ax = fig.add_subplot(111)\n",
    "    \n",
    "    ax.plot(blocked_x, blocked_y, 'ks', markersize = 2)\n",
    "    ax.plot(robots_x, robots_y, 'ro', markersize=2)\n",
    "    random.randint(1,2)\n",
    "    rgb = random.randint(100000, 999999)\n",
    "    for i in range(len(pickup_x)):\n",
    "        shape = find_direction(pickup_x[i][0], pickup_y[i][0], map)\n",
    "        ax.scatter(pickup_x[i][0], pickup_y[i][0], s=8, c='#'+str(rgb), marker = shape)\n",
    "        shape = find_direction(drop_x[i][0], drop_y[i][0], map)\n",
    "        ax.scatter(drop_x[i][0], drop_y[i][0], s=8, c='#'+str(rgb), marker = shape)\n",
    "        rgb = random.randint(100000, 999999)\n",
    "    \n",
    "    #ax.axis(\"off\")\n",
    "    ax.set_aspect('equal', 'box')\n",
    "    plt.xticks([])\n",
    "    plt.yticks([])\n",
    "    plt.savefig(output+'.png', dpi=100)\n",
    "\n"
   ]
  },
  {
   "cell_type": "code",
   "execution_count": null,
   "id": "092baa3b",
   "metadata": {},
   "outputs": [],
   "source": []
  },
  {
   "cell_type": "code",
   "execution_count": 2,
   "id": "eddae5a0",
   "metadata": {},
   "outputs": [],
   "source": [
    "import json"
   ]
  },
  {
   "cell_type": "code",
   "execution_count": 3,
   "id": "8051d8c3",
   "metadata": {},
   "outputs": [],
   "source": [
    "with open('problem_00.json', 'r') as fp:\n",
    "    data = json.load(fp)"
   ]
  },
  {
   "cell_type": "code",
   "execution_count": 4,
   "id": "3113df24",
   "metadata": {},
   "outputs": [],
   "source": [
    "world = data['world_descriptor']\n",
    "robots = data['robots']\n",
    "tasks = data['tasks']"
   ]
  },
  {
   "cell_type": "code",
   "execution_count": 5,
   "id": "3fc25186",
   "metadata": {},
   "outputs": [
    {
     "data": {
      "text/plain": [
       "100"
      ]
     },
     "execution_count": 5,
     "metadata": {},
     "output_type": "execute_result"
    }
   ],
   "source": [
    "len(world)"
   ]
  },
  {
   "cell_type": "code",
   "execution_count": 6,
   "id": "5e073433",
   "metadata": {},
   "outputs": [],
   "source": [
    "robots = [[49, 99], [99, 50], [0, 49] ]"
   ]
  },
  {
   "cell_type": "code",
   "execution_count": 8,
   "id": "0beca7db",
   "metadata": {},
   "outputs": [
    {
     "data": {
      "image/png": "[encoded data removed]",
      "text/plain": [
       "<Figure size 720x720 with 1 Axes>"
      ]
     },
     "metadata": {},
     "output_type": "display_data"
    }
   ],
   "source": [
    "draw(world, robots, tasks, 'predef.png')"
   ]
  },
  {
   "cell_type": "code",
   "execution_count": null,
   "id": "aaac4ed9",
   "metadata": {},
   "outputs": [],
   "source": []
  }
 ],
 "metadata": {
  "kernelspec": {
   "display_name": "Python 3 (ipykernel)",
   "language": "python",
   "name": "python3"
  },
  "language_info": {
   "codemirror_mode": {
    "name": "ipython",
    "version": 3
   },
   "file_extension": ".py",
   "mimetype": "text/x-python",
   "name": "python",
   "nbconvert_exporter": "python",
   "pygments_lexer": "ipython3",
   "version": "3.9.12"
  }
 },
 "nbformat": 4,
 "nbformat_minor": 5
}
