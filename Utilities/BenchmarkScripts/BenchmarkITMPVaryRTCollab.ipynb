{
 "cells": [
  {
   "cell_type": "code",
   "execution_count": 1,
   "id": "07595492",
   "metadata": {},
   "outputs": [
    {
     "data": {
      "text/plain": [
       "(10737418240, 12884901888)"
      ]
     },
     "execution_count": 1,
     "metadata": {},
     "output_type": "execute_result"
    }
   ],
   "source": [
    "import resource\n",
    "resource.setrlimit(resource.RLIMIT_AS, ( 10*(2**30), 12*(2**30) ))\n",
    "resource.getrlimit(resource.RLIMIT_AS)"
   ]
  },
  {
   "cell_type": "code",
   "execution_count": 2,
   "id": "d2c42c43",
   "metadata": {},
   "outputs": [],
   "source": [
    "def get_memory():\n",
    "    with open('/proc/meminfo', 'r') as mem:\n",
    "        free_memory = 0\n",
    "        for i in mem:\n",
    "            sline = i.split()\n",
    "            if str(sline[0]) in ('MemFree:', 'Buffers:', 'Cached:'):\n",
    "                free_memory += int(sline[1])\n",
    "    return free_memory"
   ]
  },
  {
   "cell_type": "code",
   "execution_count": 3,
   "id": "9adbcbab",
   "metadata": {},
   "outputs": [
    {
     "data": {
      "text/plain": [
       "2525968"
      ]
     },
     "execution_count": 3,
     "metadata": {},
     "output_type": "execute_result"
    }
   ],
   "source": [
    "get_memory()"
   ]
  },
  {
   "cell_type": "code",
   "execution_count": 4,
   "id": "f15ded4e",
   "metadata": {},
   "outputs": [
    {
     "name": "stdout",
     "output_type": "stream",
     "text": [
      "2023-09-02 22:55:29.830605\n"
     ]
    }
   ],
   "source": [
    "import pandas as pd\n",
    "import json\n",
    "import os\n",
    "import subprocess\n",
    "import datetime\n",
    "print(datetime.datetime.now())"
   ]
  },
  {
   "cell_type": "code",
   "execution_count": null,
   "id": "3d5cfd31",
   "metadata": {},
   "outputs": [],
   "source": []
  },
  {
   "cell_type": "markdown",
   "id": "f103238f",
   "metadata": {},
   "source": [
    "### ./bin/itmpPlanner --config ../problemItmp.json --opt 1 --screen 0 --result out.json"
   ]
  },
  {
   "cell_type": "code",
   "execution_count": null,
   "id": "e3e75151-7acd-43aa-a79b-b0caf7d450d4",
   "metadata": {},
   "outputs": [],
   "source": [
    "initDir = 'problems/problems_itmp_varyRT_colab/9/'\n",
    "for mode in [1]:\n",
    "    for robots in range(2, 4):\n",
    "        for tasks in range(robots, robots+3):\n",
    "            if(tasks % robots):\n",
    "                minZ = int(max(1, 4 + 2 * (tasks // robots)))\n",
    "            else:\n",
    "                minZ = int(max(1, 2 + 2 * (tasks // robots)))\n",
    "            for currZ in range(minZ, minZ+5, 2):\n",
    "                for example in range(20):\n",
    "                    example_id = 'problem_' + str(example).zfill(2) + '.json'\n",
    "                    output_id = 'problem_' + str(example).zfill(2) + '_mode' + str(mode) + '.json'\n",
    "                    inputLoc = os.path.join(initDir, str(robots), str(tasks), example_id)\n",
    "                    outputLoc = os.path.join(initDir, str(robots), str(tasks), output_id)\n",
    "                    execute_commands = [\n",
    "                        './build/bin/itmpPlanner',\n",
    "                        '--config', str(inputLoc),\n",
    "                        '--opt', str(mode),\n",
    "                        '--numZ', str(currZ),\n",
    "                        '--result', str(outputLoc),\n",
    "                        '--screen', '0',\n",
    "                        '--timeout', '3600'\n",
    "                    ]\n",
    "                    print(execute_commands)\n",
    "                    print(datetime.datetime.now())\n",
    "                    try:\n",
    "                        subprocess.run(execute_commands, timeout=3600)\n",
    "                    except:\n",
    "                        print(\"Timeout\")\n",
    "                    print(\"End\\n\")"
   ]
  },
  {
   "cell_type": "code",
   "execution_count": null,
   "id": "817efd3d",
   "metadata": {},
   "outputs": [],
   "source": []
  }
 ],
 "metadata": {
  "kernelspec": {
   "display_name": "Python 3 (ipykernel)",
   "language": "python",
   "name": "python3"
  },
  "language_info": {
   "codemirror_mode": {
    "name": "ipython",
    "version": 3
   },
   "file_extension": ".py",
   "mimetype": "text/x-python",
   "name": "python",
   "nbconvert_exporter": "python",
   "pygments_lexer": "ipython3",
   "version": "3.12.2"
  }
 },
 "nbformat": 4,
 "nbformat_minor": 5
}
