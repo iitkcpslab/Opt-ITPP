{
 "cells": [
  {
   "cell_type": "code",
   "execution_count": 1,
   "id": "80c73294",
   "metadata": {},
   "outputs": [],
   "source": [
    "import os\n",
    "from scripts.problem_generator_current import *"
   ]
  },
  {
   "cell_type": "code",
   "execution_count": 3,
   "id": "8ec96d85",
   "metadata": {},
   "outputs": [
    {
     "data": {
      "text/plain": [
       "([[1, 0, 0, 0, 0, 0, 0, 0, 1, 1],\n",
       "  [0, 0, 0, 1, 0, 0, 0, 0, 0, 1],\n",
       "  [1, 0, 0, 0, 0, 0, 1, 0, 0, 0],\n",
       "  [0, 0, 0, 0, 0, 1, 0, 0, 0, 1],\n",
       "  [0, 0, 1, 0, 0, 0, 0, 0, 0, 0],\n",
       "  [0, 0, 0, 0, 0, 0, 1, 0, 0, 0],\n",
       "  [1, 0, 0, 0, 0, 0, 0, 0, 0, 0],\n",
       "  [0, 1, 1, 0, 0, 0, 0, 1, 0, 0],\n",
       "  [0, 0, 0, 0, 0, 0, 0, 0, 0, 0],\n",
       "  [0, 1, 0, 0, 0, 0, 0, 0, 0, 0]],\n",
       " [(0, 5), (9, 5), (5, 0), (5, 9)],\n",
       " [(4, 9)])"
      ]
     },
     "execution_count": 3,
     "metadata": {},
     "output_type": "execute_result"
    }
   ],
   "source": [
    "w, b, i = generate_world( (10, 10), 1, 0.2, 1)\n",
    "w, b, i"
   ]
  },
  {
   "cell_type": "code",
   "execution_count": 4,
   "id": "cd72a076",
   "metadata": {
    "code_folding": []
   },
   "outputs": [
    {
     "data": {
      "text/plain": [
       "([[1, 1, 1, 1, 1, 1, 1, 1, 1, 0, 0, 1, 1, 1, 1, 1, 1, 1, 1, 1],\n",
       "  [1, 0, 0, 0, 0, 0, 0, 0, 0, 0, 0, 0, 0, 0, 0, 0, 0, 0, 0, 1],\n",
       "  [1, 0, 0, 0, 0, 0, 0, 0, 0, 0, 0, 0, 0, 0, 0, 0, 0, 0, 0, 1],\n",
       "  [1, 0, 0, 1, 1, 0, 0, 1, 1, 0, 0, 1, 1, 0, 0, 1, 1, 0, 0, 1],\n",
       "  [1, 0, 0, 1, 1, 0, 0, 1, 1, 0, 0, 1, 1, 0, 0, 1, 1, 0, 0, 1],\n",
       "  [1, 0, 0, 1, 1, 0, 0, 1, 1, 0, 0, 1, 1, 0, 0, 1, 1, 0, 0, 1],\n",
       "  [1, 0, 0, 1, 1, 0, 0, 1, 1, 0, 0, 1, 1, 0, 0, 1, 1, 0, 0, 1],\n",
       "  [1, 0, 0, 1, 1, 0, 0, 1, 1, 0, 0, 1, 1, 0, 0, 1, 1, 0, 0, 1],\n",
       "  [1, 0, 0, 1, 1, 0, 0, 1, 1, 0, 0, 1, 1, 0, 0, 1, 1, 0, 0, 1],\n",
       "  [0, 0, 0, 0, 0, 0, 0, 0, 0, 0, 0, 0, 0, 0, 0, 0, 0, 0, 0, 0],\n",
       "  [0, 0, 0, 0, 0, 0, 0, 0, 0, 0, 0, 0, 0, 0, 0, 0, 0, 0, 0, 0],\n",
       "  [1, 0, 0, 1, 1, 0, 0, 1, 1, 0, 0, 1, 1, 0, 0, 1, 1, 0, 0, 1],\n",
       "  [1, 0, 0, 1, 1, 0, 0, 1, 1, 0, 0, 1, 1, 0, 0, 1, 1, 0, 0, 1],\n",
       "  [1, 0, 0, 1, 1, 0, 0, 1, 1, 0, 0, 1, 1, 0, 0, 1, 1, 0, 0, 1],\n",
       "  [1, 0, 0, 1, 1, 0, 0, 1, 1, 0, 0, 1, 1, 0, 0, 1, 1, 0, 0, 1],\n",
       "  [1, 0, 0, 1, 1, 0, 0, 1, 1, 0, 0, 1, 1, 0, 0, 1, 1, 0, 0, 1],\n",
       "  [1, 0, 0, 1, 1, 0, 0, 1, 1, 0, 0, 1, 1, 0, 0, 1, 1, 0, 0, 1],\n",
       "  [1, 0, 0, 0, 0, 0, 0, 0, 0, 0, 0, 0, 0, 0, 0, 0, 0, 0, 0, 1],\n",
       "  [1, 0, 0, 0, 0, 0, 0, 0, 0, 0, 0, 0, 0, 0, 0, 0, 0, 0, 0, 1],\n",
       "  [1, 1, 1, 1, 1, 1, 1, 1, 1, 0, 0, 1, 1, 1, 1, 1, 1, 1, 1, 1]],\n",
       " [(0, 9),\n",
       "  (0, 10),\n",
       "  (9, 0),\n",
       "  (10, 0),\n",
       "  (9, 19),\n",
       "  (10, 19),\n",
       "  (19, 9),\n",
       "  (19, 10),\n",
       "  (1, 1),\n",
       "  (18, 18)],\n",
       " [(4, 10), (18, 8), (18, 6)])"
      ]
     },
     "execution_count": 4,
     "metadata": {},
     "output_type": "execute_result"
    }
   ],
   "source": [
    "w, b, i = load_world('maps_intermediate/predef_20.json', 3)\n",
    "w, b, i"
   ]
  },
  {
   "cell_type": "code",
   "execution_count": 4,
   "id": "66ca7c38",
   "metadata": {},
   "outputs": [
    {
     "data": {
      "text/plain": [
       "236"
      ]
     },
     "execution_count": 4,
     "metadata": {},
     "output_type": "execute_result"
    }
   ],
   "source": [
    "zeros = 0\n",
    "for row in w:\n",
    "    zeros += row.count(0)\n",
    "zeros"
   ]
  },
  {
   "cell_type": "code",
   "execution_count": null,
   "id": "567042a8",
   "metadata": {},
   "outputs": [],
   "source": []
  },
  {
   "cell_type": "code",
   "execution_count": null,
   "id": "37a494f8",
   "metadata": {},
   "outputs": [],
   "source": []
  },
  {
   "cell_type": "code",
   "execution_count": 2,
   "id": "6cfd40ef",
   "metadata": {},
   "outputs": [],
   "source": [
    "start_directory = \"../problems/\""
   ]
  },
  {
   "cell_type": "raw",
   "id": "ec9dce78",
   "metadata": {},
   "source": []
  },
  {
   "cell_type": "code",
   "execution_count": null,
   "id": "0b792edb",
   "metadata": {},
   "outputs": [],
   "source": [
    "# 1\n",
    "# Vary Robots and Tasks for non colloboration\n",
    "# Generate 20x20 map with rob (1, 10) and tasks (1, 10)"
   ]
  },
  {
   "cell_type": "code",
   "execution_count": 2,
   "id": "7d41ec1d",
   "metadata": {},
   "outputs": [],
   "source": [
    "def generate_1():\n",
    "    seeds = []\n",
    "    seedfile = open(\"seeds.seed\",\"r\")\n",
    "    for line in seedfile:\n",
    "        seeds.append(int(line))\n",
    "    for rob_no in range(1, 11):\n",
    "        for tasks_no in range(1, 11):\n",
    "            for i in range(10):\n",
    "                mapsize = 20\n",
    "                print(str(rob_no)+\":\"+str(tasks_no)+\":\"+str(mapsize)+\":\"+str(i))\n",
    "                directory = start_directory+str(mapsize)+\"/\"+str(rob_no)+\"/\"+str(tasks_no)\n",
    "                if not os.path.exists(directory):\n",
    "                    os.makedirs(directory)\n",
    "                problem_file = open(directory+\"/problem_\"+str(i).zfill(2)+'.json', \"w\")\n",
    "                world, base, ipos = load_world( 'maps/predef_'+str(mapsize)+'.json')\n",
    "                config  = generate_itmp_problem(world, base, ipos, rob_no, tasks_no, seeds[i])\n",
    "                json.dump(config, problem_file)\n",
    "                problem_file.close()"
   ]
  },
  {
   "cell_type": "code",
   "execution_count": null,
   "id": "a1a1d3a0",
   "metadata": {},
   "outputs": [],
   "source": [
    "generate_1()"
   ]
  },
  {
   "cell_type": "code",
   "execution_count": null,
   "id": "43a15a70",
   "metadata": {},
   "outputs": [],
   "source": []
  },
  {
   "cell_type": "code",
   "execution_count": null,
   "id": "2d268543",
   "metadata": {},
   "outputs": [],
   "source": [
    "# 2\n",
    "# Todo :: Change it such that the tasks remains the same \n",
    "# Increase the number of robots \n",
    "# Observe the effect of increasing robots and change in Z.\n",
    "\n",
    "\n",
    "# Vary Z to test colloboration for task planner\n",
    "# Generate 20x20 intermediate maps with 2, 3 robots and n, n+1, n+2 tasks."
   ]
  },
  {
   "cell_type": "code",
   "execution_count": 2,
   "id": "72c3b8c8",
   "metadata": {},
   "outputs": [],
   "source": [
    "def generate_2():\n",
    "    seeds = []\n",
    "    seedfile = open(\"seeds.seed\",\"r\")\n",
    "    for line in seedfile:\n",
    "        seeds.append(int(line))\n",
    "    for rob_no in range(2,4):\n",
    "        for tasks_no in range(rob_no, rob_no+3):\n",
    "            for i in range(10):\n",
    "                mapsize = 50\n",
    "                print(str(rob_no)+\":\"+str(tasks_no)+\":\"+str(mapsize)+\":\"+str(i))\n",
    "                directory = \"problems_intermediate_varyZ/\"+str(mapsize)+\"/\"+str(rob_no)+\"/\"+str(tasks_no)\n",
    "                if not os.path.exists(directory):\n",
    "                    os.makedirs(directory)\n",
    "                problem_file = open(directory+\"/problem_\"+str(i).zfill(2)+'.json', \"w\")\n",
    "                world, base, ipos = load_world( 'maps_intermediate/predef_'+str(mapsize)+'.json', 10)\n",
    "                config  = generate_itmp_problem(world, base, ipos, rob_no, tasks_no, seeds[i])\n",
    "                json.dump(config, problem_file)\n",
    "                problem_file.close()"
   ]
  },
  {
   "cell_type": "raw",
   "id": "2fe7e1e1-156c-463c-a7b2-a3d3be9cb9c3",
   "metadata": {
    "scrolled": true
   },
   "source": [
    "generate_2()"
   ]
  },
  {
   "cell_type": "code",
   "execution_count": null,
   "id": "e7c988ff",
   "metadata": {},
   "outputs": [],
   "source": []
  },
  {
   "cell_type": "code",
   "execution_count": null,
   "id": "167ebecf",
   "metadata": {},
   "outputs": [],
   "source": []
  },
  {
   "cell_type": "code",
   "execution_count": null,
   "id": "16fb7f73",
   "metadata": {},
   "outputs": [],
   "source": []
  },
  {
   "cell_type": "code",
   "execution_count": null,
   "id": "8e7b9017",
   "metadata": {},
   "outputs": [],
   "source": []
  },
  {
   "cell_type": "code",
   "execution_count": null,
   "id": "15175c3e",
   "metadata": {},
   "outputs": [],
   "source": []
  },
  {
   "cell_type": "code",
   "execution_count": null,
   "id": "5b1c5d03",
   "metadata": {},
   "outputs": [],
   "source": [
    "# 3 \n",
    "# Vary MapSize"
   ]
  },
  {
   "cell_type": "code",
   "execution_count": 4,
   "id": "1438c502",
   "metadata": {},
   "outputs": [],
   "source": [
    "def generate_3(rob_no, tasks_no):\n",
    "    seeds = []\n",
    "    seedfile = open(\"seeds.seed\",\"r\")\n",
    "    for line in seedfile:\n",
    "        seeds.append(int(line))\n",
    "    for mapsize in range(20, 101, 10):\n",
    "        for ex in range(10):\n",
    "            print(str(3)+\":\"+str(5)+\":\"+str(mapsize)+\":\"+str(ex))\n",
    "            world, base, ipos = load_world( 'maps/predef_'+str(mapsize)+'.json')\n",
    "            config  = generate_itmp_problem(world, base, ipos, rob_no, tasks_no, seeds[ex])\n",
    "            \n",
    "            directory = \"problems/problems_varySize/\"+str(mapsize)+\"/\"+str(rob_no)+\"/\"+str(tasks_no)\n",
    "            if not os.path.exists(directory):\n",
    "                os.makedirs(directory)\n",
    "            problem_file = open(directory+\"/problem_\"+str(ex).zfill(2)+'.json', \"w\")\n",
    "            json.dump(config, problem_file)\n",
    "            problem_file.close()\n",
    "            \n",
    "        \n",
    "        for ex in range(10, 20):\n",
    "            print(str(3)+\":\"+str(5)+\":\"+str(mapsize)+\":\"+str(ex))\n",
    "            world, base, ipos = generate_world( (mapsize, mapsize), seeds[ex], 0.25)\n",
    "            config  = generate_itmp_problem(world, base, ipos, rob_no, tasks_no, seeds[ex])\n",
    "            \n",
    "            directory = \"problems/problems_varySize/\"+str(mapsize)+\"/\"+str(rob_no)+\"/\"+str(tasks_no)\n",
    "            if not os.path.exists(directory):\n",
    "                os.makedirs(directory)\n",
    "            problem_file = open(directory+\"/problem_\"+str(ex).zfill(2)+'.json', \"w\")\n",
    "            json.dump(config, problem_file)\n",
    "            problem_file.close()\n",
    "    \n",
    "    "
   ]
  },
  {
   "cell_type": "raw",
   "id": "abdd972c-8ef3-42aa-b0a5-323fe4434d15",
   "metadata": {},
   "source": [
    "generate_3(3, 5)"
   ]
  },
  {
   "cell_type": "code",
   "execution_count": null,
   "id": "64f1c64b",
   "metadata": {},
   "outputs": [],
   "source": []
  },
  {
   "cell_type": "code",
   "execution_count": null,
   "id": "cdc6194c",
   "metadata": {},
   "outputs": [],
   "source": []
  },
  {
   "cell_type": "code",
   "execution_count": null,
   "id": "f0e41298",
   "metadata": {},
   "outputs": [],
   "source": []
  },
  {
   "cell_type": "code",
   "execution_count": null,
   "id": "96052654",
   "metadata": {},
   "outputs": [],
   "source": []
  },
  {
   "cell_type": "code",
   "execution_count": 7,
   "id": "30a9ef28",
   "metadata": {},
   "outputs": [],
   "source": [
    "# 4\n",
    "# Vary Z for ITMP and PDDL to run non-colloborative planning\n",
    "# Generate 9x9 maps with 1,5 robots and n, n+1, n+2 tasks."
   ]
  },
  {
   "cell_type": "code",
   "execution_count": 8,
   "id": "850e061d",
   "metadata": {},
   "outputs": [],
   "source": [
    "def generate_4():\n",
    "    seeds = []\n",
    "    seedfile = open(\"seeds.seed\",\"r\")\n",
    "    for line in seedfile:\n",
    "        seeds.append(int(line))\n",
    "    for rob_no in range(2, 4):\n",
    "        for tasks_no in range(rob_no, rob_no + 3):\n",
    "            for i in range(10):\n",
    "                mapsize = 9\n",
    "                print(str(rob_no)+\":\"+str(tasks_no)+\":\"+str(mapsize)+\":\"+str(i))\n",
    "                directory = \"problems/problems_itmp_varyRT/\"+str(mapsize)+\"/\"+str(rob_no)+\"/\"+str(tasks_no)\n",
    "                if not os.path.exists(directory):\n",
    "                    os.makedirs(directory)\n",
    "                problem_file = open(directory+\"/problem_\"+str(i).zfill(2)+'.json', \"w\")\n",
    "                world, base, ipos = load_world( 'maps_intermediate/predef_'+str(mapsize)+'.json', 0)\n",
    "                config  = generate_itmp_problem(world, base, ipos, rob_no, tasks_no, seeds[i])\n",
    "                json.dump(config, problem_file)\n",
    "                problem_file.close()\n",
    "\n",
    "            for i in range(10, 20):\n",
    "                mapsize = 9\n",
    "                print(str(rob_no)+\":\"+str(tasks_no)+\":\"+str(mapsize)+\":\"+str(i))\n",
    "                directory = \"problems/problems_itmp_varyRT/\"+str(mapsize)+\"/\"+str(rob_no)+\"/\"+str(tasks_no)\n",
    "                if not os.path.exists(directory):\n",
    "                    os.makedirs(directory)\n",
    "                problem_file = open(directory+\"/problem_\"+str(i).zfill(2)+'.json', \"w\")\n",
    "                world, base, ipos = generate_world( (mapsize, mapsize), seeds[i], 0.0)\n",
    "                config  = generate_itmp_problem(world, base, ipos, rob_no, tasks_no, seeds[i])\n",
    "                json.dump(config, problem_file)\n",
    "                problem_file.close()"
   ]
  },
  {
   "cell_type": "raw",
   "id": "3003533a-3b35-4f3f-9a7e-4007cb9a9ad0",
   "metadata": {
    "scrolled": true
   },
   "source": [
    "generate_4()"
   ]
  },
  {
   "cell_type": "code",
   "execution_count": null,
   "id": "8fbc20fd",
   "metadata": {},
   "outputs": [],
   "source": []
  },
  {
   "cell_type": "code",
   "execution_count": null,
   "id": "8fc61e1a",
   "metadata": {},
   "outputs": [],
   "source": []
  },
  {
   "cell_type": "code",
   "execution_count": null,
   "id": "51943996",
   "metadata": {},
   "outputs": [],
   "source": []
  },
  {
   "cell_type": "code",
   "execution_count": null,
   "id": "d4cbf7ef",
   "metadata": {},
   "outputs": [],
   "source": [
    "# 5\n",
    "# Vary Z for ITMP and PDDL to run colloborative planning\n",
    "# Generate 9x9 maps with 2, 3 robots and n, n+1, n+2 tasks."
   ]
  },
  {
   "cell_type": "code",
   "execution_count": 10,
   "id": "657796f6",
   "metadata": {
    "code_folding": []
   },
   "outputs": [],
   "source": [
    "def generate_5():\n",
    "    seeds = []\n",
    "    seedfile = open(\"seeds.seed\",\"r\")\n",
    "    for line in seedfile:\n",
    "        seeds.append(int(line))\n",
    "    for rob_no in range(2, 5):\n",
    "        for tasks_no in range(rob_no, rob_no + 3):\n",
    "            for i in range(10):\n",
    "                mapsize = 9\n",
    "                print(str(rob_no)+\":\"+str(tasks_no)+\":\"+str(mapsize)+\":\"+str(i))\n",
    "                directory = \"problems/problems_itmp_varyRT_colab/\"+str(mapsize)+\"/\"+str(rob_no)+\"/\"+str(tasks_no)\n",
    "                if not os.path.exists(directory):\n",
    "                    os.makedirs(directory)\n",
    "                problem_file = open(directory+\"/problem_\"+str(i).zfill(2)+'.json', \"w\")\n",
    "                world, base, ipos = load_world( 'maps_intermediate/predef_'+str(mapsize)+'.json', 1)\n",
    "                config  = generate_itmp_problem(world, base, ipos, rob_no, tasks_no, seeds[i])\n",
    "                json.dump(config, problem_file)\n",
    "                problem_file.close()\n",
    "\n",
    "            for i in range(10, 20):\n",
    "                mapsize = 9\n",
    "                print(str(rob_no)+\":\"+str(tasks_no)+\":\"+str(mapsize)+\":\"+str(i))\n",
    "                directory = \"problems/problems_itmp_varyRT_colab/\"+str(mapsize)+\"/\"+str(rob_no)+\"/\"+str(tasks_no)\n",
    "                if not os.path.exists(directory):\n",
    "                    os.makedirs(directory)\n",
    "                problem_file = open(directory+\"/problem_\"+str(i).zfill(2)+'.json', \"w\")\n",
    "                world, base, ipos = generate_world( (mapsize, mapsize), seeds[i], 0.0, 1)\n",
    "                config  = generate_itmp_problem(world, base, ipos, rob_no, tasks_no, seeds[i])\n",
    "                json.dump(config, problem_file)\n",
    "                problem_file.close()"
   ]
  },
  {
   "cell_type": "raw",
   "id": "40c672d6-b94c-4415-be3f-e039595ff3fc",
   "metadata": {},
   "source": [
    "generate_5()"
   ]
  },
  {
   "cell_type": "code",
   "execution_count": null,
   "id": "10d2c837",
   "metadata": {},
   "outputs": [],
   "source": []
  },
  {
   "cell_type": "code",
   "execution_count": null,
   "id": "1814a1da",
   "metadata": {},
   "outputs": [],
   "source": [
    "# 5 for larger mapSize\n",
    "# Vary Z for ITMP and PDDL to run colloborative planning\n",
    "# Generate 9x9 maps with 2, 3 robots and n, n+1, n+2 tasks."
   ]
  },
  {
   "cell_type": "code",
   "execution_count": 15,
   "id": "03b0ab57",
   "metadata": {},
   "outputs": [],
   "source": [
    "def generate_5_tmp():\n",
    "    seeds = []\n",
    "    seedfile = open(\"seeds.seed\",\"r\")\n",
    "    for line in seedfile:\n",
    "        seeds.append(int(line))\n",
    "    for rob_no in range(1, 6):\n",
    "        for tasks_no in range(1, 6):\n",
    "            for i in range(10):\n",
    "                mapsize = 50\n",
    "                print(str(rob_no)+\":\"+str(tasks_no)+\":\"+str(mapsize)+\":\"+str(i))\n",
    "                directory = \"problems/problems_itmp_varyRT_colab_temp/\"+str(mapsize)+\"/\"+str(rob_no)+\"/\"+str(tasks_no)\n",
    "                if not os.path.exists(directory):\n",
    "                    os.makedirs(directory)\n",
    "                problem_file = open(directory+\"/problem_\"+str(i).zfill(2)+'.json', \"w\")\n",
    "                world, base, ipos = load_world( 'maps_intermediate/predef_'+str(mapsize)+'.json', 1)\n",
    "                config  = generate_itmp_problem(world, base, ipos, rob_no, tasks_no, seeds[i])\n",
    "                json.dump(config, problem_file)\n",
    "                problem_file.close()\n",
    "\n",
    "            for i in range(10, 20):\n",
    "                mapsize = 50\n",
    "                print(str(rob_no)+\":\"+str(tasks_no)+\":\"+str(mapsize)+\":\"+str(i))\n",
    "                directory = \"problems/problems_itmp_varyRT_colab_temp/\"+str(mapsize)+\"/\"+str(rob_no)+\"/\"+str(tasks_no)\n",
    "                if not os.path.exists(directory):\n",
    "                    os.makedirs(directory)\n",
    "                problem_file = open(directory+\"/problem_\"+str(i).zfill(2)+'.json', \"w\")\n",
    "                world, base, ipos = generate_world( (mapsize, mapsize), seeds[i], 0.0, 1)\n",
    "                config  = generate_itmp_problem(world, base, ipos, rob_no, tasks_no, seeds[i])\n",
    "                json.dump(config, problem_file)\n",
    "                problem_file.close()"
   ]
  },
  {
   "cell_type": "raw",
   "id": "43c86a71-5470-46bc-a811-c04202a68864",
   "metadata": {
    "scrolled": true
   },
   "source": [
    "generate_5_tmp()"
   ]
  },
  {
   "cell_type": "code",
   "execution_count": null,
   "id": "38f1f3ed",
   "metadata": {},
   "outputs": [],
   "source": []
  },
  {
   "cell_type": "code",
   "execution_count": null,
   "id": "ef07cccb",
   "metadata": {},
   "outputs": [],
   "source": []
  },
  {
   "cell_type": "code",
   "execution_count": null,
   "id": "59613104",
   "metadata": {},
   "outputs": [],
   "source": []
  },
  {
   "cell_type": "code",
   "execution_count": null,
   "id": "1f1d1888",
   "metadata": {},
   "outputs": [],
   "source": []
  },
  {
   "cell_type": "code",
   "execution_count": null,
   "id": "0913a63f",
   "metadata": {},
   "outputs": [],
   "source": []
  },
  {
   "cell_type": "code",
   "execution_count": null,
   "id": "08c3cf9a",
   "metadata": {},
   "outputs": [],
   "source": []
  }
 ],
 "metadata": {
  "kernelspec": {
   "display_name": "Python 3 (ipykernel)",
   "language": "python",
   "name": "python3"
  },
  "language_info": {
   "codemirror_mode": {
    "name": "ipython",
    "version": 3
   },
   "file_extension": ".py",
   "mimetype": "text/x-python",
   "name": "python",
   "nbconvert_exporter": "python",
   "pygments_lexer": "ipython3",
   "version": "3.12.2"
  }
 },
 "nbformat": 4,
 "nbformat_minor": 5
}
