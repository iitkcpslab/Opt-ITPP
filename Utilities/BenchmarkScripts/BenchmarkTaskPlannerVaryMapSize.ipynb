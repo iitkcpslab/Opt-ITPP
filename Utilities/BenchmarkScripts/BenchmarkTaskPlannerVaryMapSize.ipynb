{
 "cells": [
  {
   "cell_type": "code",
   "execution_count": null,
   "id": "07595492",
   "metadata": {},
   "outputs": [],
   "source": [
    "import resource\n",
    "resource.setrlimit(resource.RLIMIT_AS, ( 10*(2**30), 12*(2**30) ))\n",
    "resource.getrlimit(resource.RLIMIT_AS)"
   ]
  },
  {
   "cell_type": "code",
   "execution_count": null,
   "id": "d2c42c43",
   "metadata": {},
   "outputs": [],
   "source": [
    "def get_memory():\n",
    "    with open('/proc/meminfo', 'r') as mem:\n",
    "        free_memory = 0\n",
    "        for i in mem:\n",
    "            sline = i.split()\n",
    "            if str(sline[0]) in ('MemFree:', 'Buffers:', 'Cached:'):\n",
    "                free_memory += int(sline[1])\n",
    "    return free_memory"
   ]
  },
  {
   "cell_type": "code",
   "execution_count": null,
   "id": "9adbcbab",
   "metadata": {},
   "outputs": [],
   "source": [
    "get_memory()"
   ]
  },
  {
   "cell_type": "code",
   "execution_count": null,
   "id": "f15ded4e",
   "metadata": {},
   "outputs": [],
   "source": [
    "import pandas as pd\n",
    "import json\n",
    "import os\n",
    "import subprocess\n",
    "import datetime\n",
    "print(datetime.datetime.now())"
   ]
  },
  {
   "cell_type": "code",
   "execution_count": null,
   "id": "3d5cfd31",
   "metadata": {},
   "outputs": [],
   "source": []
  },
  {
   "cell_type": "raw",
   "id": "61877982",
   "metadata": {},
   "source": [
    "./bin/taskPlanner \n",
    "--config problems/20/3/5/problem_00.json \n",
    "--numZ 6 \n",
    "--opt 1 \n",
    "--screen 1 \n",
    "--result debugTaskPlanner.txt \n",
    "--timeout 3600"
   ]
  },
  {
   "cell_type": "code",
   "execution_count": null,
   "id": "9d068172-ee5d-43f8-9d91-6a4fee6e58d7",
   "metadata": {
    "scrolled": true
   },
   "outputs": [],
   "source": [
    "initDir = 'problems/problems_varySize/'\n",
    "robots = 3\n",
    "tasks = 5\n",
    "if(tasks % robots):\n",
    "    minZ = int(max(1, 4 + 2 * (tasks // robots)))\n",
    "else:\n",
    "    minZ = int(max(1, 2 + 2 * (tasks // robots)))\n",
    "currZ = minZ\n",
    "mode = 1\n",
    "\n",
    "for mapSize in range(20, 101, 10):\n",
    "    for example in range(20):\n",
    "        example_id = 'problem_' + str(example).zfill(2) + '.json'\n",
    "        output_id = 'problem_' + str(example).zfill(2) + '_mode' + str(mode) + '_Z' + str(currZ) + '.json'\n",
    "        inputLoc = os.path.join(initDir, str(mapSize), str(robots), str(tasks), example_id)\n",
    "        outputLoc = os.path.join(initDir, str(mapSize), str(robots), str(tasks), output_id)\n",
    "\n",
    "\n",
    "\n",
    "        execute_commands = [\n",
    "            './build/bin/taskPlanner',\n",
    "            '--config', str(inputLoc),\n",
    "            '--opt', str(mode),\n",
    "            '--numZ', str(currZ),\n",
    "            '--result', str(outputLoc),\n",
    "            '--screen', '0',\n",
    "            '--timeout', '3600'\n",
    "        ]\n",
    "        print(execute_commands)\n",
    "        print(datetime.datetime.now())\n",
    "        try:\n",
    "            subprocess.run(execute_commands, timeout=3600)\n",
    "        except:\n",
    "            print(\"Failed\")\n",
    "        print(\"End\\n\")"
   ]
  },
  {
   "cell_type": "code",
   "execution_count": null,
   "id": "817efd3d",
   "metadata": {},
   "outputs": [],
   "source": []
  },
  {
   "cell_type": "code",
   "execution_count": null,
   "id": "5732bc28",
   "metadata": {},
   "outputs": [],
   "source": []
  },
  {
   "cell_type": "code",
   "execution_count": null,
   "id": "60d2f85e-bab4-4b00-bce0-8cf8ef49b1f1",
   "metadata": {
    "scrolled": true
   },
   "outputs": [],
   "source": [
    "initDir = 'problems/problems_varySize/'\n",
    "robots = 3\n",
    "tasks = 5\n",
    "if(tasks % robots):\n",
    "    minZ = int(max(1, 4 + 2 * (tasks // robots)))\n",
    "else:\n",
    "    minZ = int(max(1, 2 + 2 * (tasks // robots)))\n",
    "currZ = minZ\n",
    "mode = 2\n",
    "\n",
    "for mapSize in range(20, 101, 10):\n",
    "    for example in range(20):\n",
    "        example_id = 'problem_' + str(example).zfill(2) + '.json'\n",
    "        output_id = 'problem_' + str(example).zfill(2) + '_mode' + str(mode) + '_Z' + str(currZ) + '.json'\n",
    "        inputLoc = os.path.join(initDir, str(mapSize), str(robots), str(tasks), example_id)\n",
    "        outputLoc = os.path.join(initDir, str(mapSize), str(robots), str(tasks), output_id)\n",
    "\n",
    "\n",
    "\n",
    "        execute_commands = [\n",
    "            './build/bin/taskPlanner',\n",
    "            '--config', str(inputLoc),\n",
    "            '--opt', str(mode),\n",
    "            '--numZ', str(currZ),\n",
    "            '--result', str(outputLoc),\n",
    "            '--screen', '0',\n",
    "            '--timeout', '3600'\n",
    "        ]\n",
    "        print(execute_commands)\n",
    "        print(datetime.datetime.now())\n",
    "        try:\n",
    "            subprocess.run(execute_commands, timeout=3600)\n",
    "        except:\n",
    "            print(\"Failed\")\n",
    "        print(\"End\\n\")"
   ]
  },
  {
   "cell_type": "code",
   "execution_count": null,
   "id": "bd31c244",
   "metadata": {},
   "outputs": [],
   "source": []
  }
 ],
 "metadata": {
  "kernelspec": {
   "display_name": "Python 3 (ipykernel)",
   "language": "python",
   "name": "python3"
  },
  "language_info": {
   "codemirror_mode": {
    "name": "ipython",
    "version": 3
   },
   "file_extension": ".py",
   "mimetype": "text/x-python",
   "name": "python",
   "nbconvert_exporter": "python",
   "pygments_lexer": "ipython3",
   "version": "3.12.2"
  }
 },
 "nbformat": 4,
 "nbformat_minor": 5
}
