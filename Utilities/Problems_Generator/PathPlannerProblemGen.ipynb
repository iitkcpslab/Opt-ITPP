{
 "cells": [
  {
   "cell_type": "code",
   "execution_count": 3,
   "id": "d718b4c6",
   "metadata": {},
   "outputs": [],
   "source": [
    "import os\n",
    "import sys\n",
    "import json\n",
    "from random import randint\n",
    "import networkx as nx\n",
    "import random\n",
    "\n",
    "import scripts.problem_generator_current as gen"
   ]
  },
  {
   "cell_type": "code",
   "execution_count": null,
   "id": "d4a4921d",
   "metadata": {},
   "outputs": [],
   "source": []
  },
  {
   "cell_type": "code",
   "execution_count": 4,
   "id": "fc03539f",
   "metadata": {},
   "outputs": [],
   "source": [
    "w, b, i = gen.generate_world( (10, 10), 1, 0.2)"
   ]
  },
  {
   "cell_type": "code",
   "execution_count": 8,
   "id": "e3124fe5",
   "metadata": {},
   "outputs": [],
   "source": [
    "problem = gen.generate_path_planning_problem(w, 2, 5, 0)"
   ]
  },
  {
   "cell_type": "code",
   "execution_count": 9,
   "id": "7a4f137b",
   "metadata": {},
   "outputs": [
    {
     "data": {
      "text/plain": [
       "{'world_descriptor': [[1, 0, 0, 0, 0, 0, 0, 0, 1, 1],\n",
       "  [0, 0, 0, 1, 0, 0, 0, 0, 0, 1],\n",
       "  [1, 0, 0, 0, 0, 0, 1, 0, 0, 0],\n",
       "  [0, 0, 0, 0, 0, 1, 0, 0, 0, 1],\n",
       "  [0, 0, 1, 0, 0, 0, 0, 0, 0, 0],\n",
       "  [0, 0, 0, 0, 0, 0, 1, 0, 0, 0],\n",
       "  [1, 0, 0, 0, 0, 0, 0, 0, 0, 0],\n",
       "  [0, 1, 1, 0, 0, 0, 0, 1, 0, 0],\n",
       "  [0, 0, 0, 0, 0, 0, 0, 0, 0, 0],\n",
       "  [0, 1, 0, 0, 0, 0, 0, 0, 0, 0]],\n",
       " 'objectives': [[((6, 1), 'SF'),\n",
       "   ((6, 6), 'D[2, 0]'),\n",
       "   ((0, 6), 'P[2, 1]'),\n",
       "   ((4, 4), 'D[4, 0]'),\n",
       "   ((8, 4), 'P[4, 1]')],\n",
       "  [((8, 1), 'SF'),\n",
       "   ((6, 7), 'D[7, 0]'),\n",
       "   ((5, 0), 'P[7, 1]'),\n",
       "   ((8, 3), 'D[9, 0]'),\n",
       "   ((5, 9), 'P[9, 1]')]],\n",
       " 'goals': [[1, 2, 3, 4, 5], [6, 7, 8, 9, 10]],\n",
       " 'actions': [[-1, [2, 0], [2, 1], [4, 0], [4, 1]],\n",
       "  [-1, [7, 0], [7, 1], [9, 0], [9, 1]]],\n",
       " 'all_pos': {1: (6, 1),\n",
       "  2: (6, 6),\n",
       "  3: (0, 6),\n",
       "  4: (4, 4),\n",
       "  5: (8, 4),\n",
       "  6: (8, 1),\n",
       "  7: (6, 7),\n",
       "  8: (5, 0),\n",
       "  9: (8, 3),\n",
       "  10: (5, 9)}}"
      ]
     },
     "execution_count": 9,
     "metadata": {},
     "output_type": "execute_result"
    }
   ],
   "source": [
    "problem"
   ]
  },
  {
   "cell_type": "code",
   "execution_count": null,
   "id": "64218de5",
   "metadata": {},
   "outputs": [],
   "source": []
  },
  {
   "cell_type": "code",
   "execution_count": 9,
   "id": "5474a815",
   "metadata": {},
   "outputs": [],
   "source": [
    "def generate20_20opt():\n",
    "    seeds = []\n",
    "    seedfile = open(\"seeds.seed\",\"r\")\n",
    "    for line in seedfile:\n",
    "        seeds.append(int(line))\n",
    "    for num_tasks in range(10, 51, 10):\n",
    "        for tasks_no in range(1, 11):\n",
    "            for i in range(10):\n",
    "                mapsize = 100\n",
    "                print(str(num_tasks)+\":\"+str(tasks_no)+\":\"+str(mapsize)+\":\"+str(i))\n",
    "                directory = \"problems_mp/\"+str(mapsize)+\"/\"+str(num_tasks)+\"/\"+str(tasks_no)\n",
    "                if not os.path.exists(directory):\n",
    "                    os.makedirs(directory)\n",
    "                problem_file = open(directory+\"/problem_\"+str(i).zfill(2)+'.json', \"w\")\n",
    "                world, base, ipos = load_world( 'maps/predef_'+str(mapsize)+'.json')\n",
    "                config = generate_problem(world, num_tasks, tasks_no, seeds[i])\n",
    "                json.dump(config, problem_file)\n",
    "                problem_file.close()"
   ]
  },
  {
   "cell_type": "code",
   "execution_count": null,
   "id": "c4153946",
   "metadata": {},
   "outputs": [],
   "source": [
    "generate20_20opt()"
   ]
  },
  {
   "cell_type": "code",
   "execution_count": null,
   "id": "cf184277",
   "metadata": {},
   "outputs": [],
   "source": []
  },
  {
   "cell_type": "code",
   "execution_count": null,
   "id": "9c635ccd",
   "metadata": {},
   "outputs": [],
   "source": []
  },
  {
   "cell_type": "code",
   "execution_count": null,
   "id": "eab7a645",
   "metadata": {},
   "outputs": [],
   "source": []
  },
  {
   "cell_type": "code",
   "execution_count": 11,
   "id": "65f8357a",
   "metadata": {},
   "outputs": [],
   "source": [
    "def generate_vary_map(rob_no, tasks_no):\n",
    "    seeds = []\n",
    "    seedfile = open(\"seeds.seed\",\"r\")\n",
    "    for line in seedfile:\n",
    "        seeds.append(int(line))\n",
    "    for mapsize in range(20, 101, 10):\n",
    "        for ex in range(10):\n",
    "            print(str(num_tasks)+\":\"+str(tasks_no)+\":\"+str(mapsize)+\":\"+str(i))\n",
    "            directory = \"problems_mp/\"+str(mapsize)+\"/\"+str(num_tasks)+\"/\"+str(tasks_no)\n",
    "            if not os.path.exists(directory):\n",
    "                os.makedirs(directory)\n",
    "            problem_file = open(directory+\"/problem_\"+str(i).zfill(2)+'.json', \"w\")\n",
    "            world, base, ipos = load_world( 'maps/predef_'+str(mapsize)+'.json')\n",
    "            config = generate_problem(world, num_tasks, tasks_no, seeds[i])\n",
    "            json.dump(config, problem_file)\n",
    "            problem_file.close()"
   ]
  },
  {
   "cell_type": "code",
   "execution_count": null,
   "id": "253e5349",
   "metadata": {},
   "outputs": [],
   "source": []
  }
 ],
 "metadata": {
  "kernelspec": {
   "display_name": "Python 3",
   "language": "python",
   "name": "python3"
  },
  "language_info": {
   "codemirror_mode": {
    "name": "ipython",
    "version": 3
   },
   "file_extension": ".py",
   "mimetype": "text/x-python",
   "name": "python",
   "nbconvert_exporter": "python",
   "pygments_lexer": "ipython3",
   "version": "3.6.9"
  }
 },
 "nbformat": 4,
 "nbformat_minor": 5
}
